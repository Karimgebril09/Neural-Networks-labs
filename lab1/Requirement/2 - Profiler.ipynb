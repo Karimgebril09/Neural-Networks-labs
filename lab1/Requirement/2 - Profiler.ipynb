{
 "cells": [
  {
   "cell_type": "markdown",
   "metadata": {},
   "source": [
    "## ⚡ Profiler"
   ]
  },
  {
   "cell_type": "markdown",
   "metadata": {},
   "source": [
    "- Implement element-wise multiplication in two ways\n",
    "    - In the first, implement it in one line using list comprehension and `zip`\n",
    "    - In the second, use numpy to perform it in one line as well"
   ]
  },
  {
   "cell_type": "markdown",
   "metadata": {},
   "source": [
    "**Expected Time To Finish Task:** ≤ 10 Minutes"
   ]
  },
  {
   "cell_type": "code",
   "execution_count": null,
   "metadata": {},
   "outputs": [],
   "source": [
    "import numpy as np\n",
    "\n",
    "def python_multiply(A:list[float], B:list[float]) -> list[float]:\n",
    "    result=[x*y for x,y in zip(A,B)]\n",
    "    return result\n",
    "\n",
    "def numpy_multiply(A: np.ndarray, B: np.ndarray) -> np.ndarray:\n",
    "    result = np.multiply(A,B) #A*B\n",
    "    return result"
   ]
  },
  {
   "cell_type": "code",
   "execution_count": 8,
   "metadata": {},
   "outputs": [],
   "source": [
    "A = [1, 2, 3, 4]\n",
    "B = [2, 3, 4, 5]\n",
    "assert python_multiply(A, B) == [2, 6, 12, 20]\n",
    "assert (numpy_multiply(np.array(A), np.array(B)) == np.array([2, 6, 12, 20])).all()"
   ]
  },
  {
   "cell_type": "markdown",
   "metadata": {},
   "source": [
    "Now let's compare both functions"
   ]
  },
  {
   "cell_type": "code",
   "execution_count": 9,
   "metadata": {},
   "outputs": [
    {
     "name": "stdout",
     "output_type": "stream",
     "text": [
      "[('python_multiply', 0.025489571094512938), ('numpy_multiply', 0.00019963502883911134)]\n"
     ]
    }
   ],
   "source": [
    "import time\n",
    "\n",
    "def multiply_benchmark(*functions):\n",
    "    benchmarks = []\n",
    "    # loop over each given function, we want to test each over 100 multiplications\n",
    "    for i, func in enumerate(functions):\n",
    "        total_time = 0\n",
    "        for _ in range(100):\n",
    "            # TODO [3]: Generate two random lists of length 100000\n",
    "            list1 = np.random.randint(0, 100, 100000)\n",
    "            list2 = np.random.randint(0, 100, 100000)\n",
    "\n",
    "            # Measure the time taken for the operation\n",
    "            if i == 1: list1, list2 = np.array(list1), np.array(list2)\n",
    "            start_time = time.time()\n",
    "            func(list1, list2)\n",
    "            end_time = time.time()\n",
    "\n",
    "            # TODO [4]: Add the time taken to the total time\n",
    "            total_time += end_time - start_time\n",
    "\n",
    "        # TODO [5]: Calculate the average time over the 100 multiplications\n",
    "        avg_time = total_time / 100\n",
    "        # append the function name and average time to the list\n",
    "        benchmarks.append((func.__name__, avg_time))\n",
    "\n",
    "    return benchmarks\n",
    "\n",
    "\n",
    "benchmarks = multiply_benchmark(python_multiply, numpy_multiply)\n",
    "print(benchmarks)"
   ]
  },
  {
   "cell_type": "markdown",
   "metadata": {},
   "source": [
    "What do you notice from the output above and why?"
   ]
  },
  {
   "cell_type": "code",
   "execution_count": null,
   "metadata": {},
   "outputs": [],
   "source": [
    "'''\n",
    "Answer goes here\n",
    "the python_multiply function is slower than the numpy_multiply function\n",
    "since the numpy_multiply function uses numpy arrays which are faster than python lists since they use c\n",
    "'''"
   ]
  },
  {
   "cell_type": "markdown",
   "metadata": {},
   "source": [
    "Would multithreading help speed the pure Python function? Why?"
   ]
  },
  {
   "cell_type": "code",
   "execution_count": null,
   "metadata": {},
   "outputs": [],
   "source": [
    "'''\n",
    "Answer goes here\n",
    "no because python use single thread while exicuting the code since no tasks require waiting like io or network it will be just a\n",
    "waste of time switching between threads \n",
    "'''"
   ]
  },
  {
   "cell_type": "code",
   "execution_count": null,
   "metadata": {},
   "outputs": [],
   "source": []
  }
 ],
 "metadata": {
  "kernelspec": {
   "display_name": "base",
   "language": "python",
   "name": "python3"
  },
  "language_info": {
   "codemirror_mode": {
    "name": "ipython",
    "version": 3
   },
   "file_extension": ".py",
   "mimetype": "text/x-python",
   "name": "python",
   "nbconvert_exporter": "python",
   "pygments_lexer": "ipython3",
   "version": "3.11.9"
  }
 },
 "nbformat": 4,
 "nbformat_minor": 2
}
