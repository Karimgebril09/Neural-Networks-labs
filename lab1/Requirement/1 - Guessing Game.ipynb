{
 "cells": [
  {
   "cell_type": "markdown",
   "metadata": {},
   "source": [
    "## 🎲 Guessing Game"
   ]
  },
  {
   "cell_type": "markdown",
   "metadata": {},
   "source": [
    "In this assignment, you will implement a simple guessing game in Python. The game will generate a random number between 1 and a specified maximum value, and the player will have a limited number of attempts to guess the correct number. Implement the following requirement in `Game.py`"
   ]
  },
  {
   "cell_type": "markdown",
   "metadata": {},
   "source": [
    "### Requirement"
   ]
  },
  {
   "cell_type": "markdown",
   "metadata": {},
   "source": [
    "1. Implement the `guessing_game` function which takes two parameters:\n",
    "\n",
    "- `max`: The maximum value for the range of random numbers.\n",
    "- `attempts`: The maximum number of attempts to guess the number. This should be a keyword-only argument.[done]\n",
    "\n",
    "2. The function should generate a random number between `1` and `max` (inclusive) and ask the user to guess a number in that range.[done]\n",
    "\n",
    "3. After receiving the user guess, the function should provide feedback if the guess is `too low`, `too high`, or `correct` and the number of `attempts` left.\n",
    "\n",
    "4. Note that you should use `try-except` so if the user provides an input that Python can't explictly convert into an integer, then a meaningful exception should be raised.\n",
    "\n",
    "5. The function should continue prompting the user for guesses until they guess the correct number or run out of attempts and print a relevent message.\n",
    "\n",
    "6. The function should return `True` if the user guesses the correct number within the allowed attempts, and `False` otherwise. In both cases, it should also return a tuple `guesses` listing the guesses by the users and an integer `chosen_int` for the correct guess.\n",
    "\n",
    "7. Additionally, implement a `play_game()` function that:\n",
    "\n",
    "- Calls `guessing_game(max, attempts)` with a maximum value of `20` and `5` attempts.\n",
    "- If the player has lost\n",
    "    - It asserts that the tuple `guesses` did not have the number `chosen_int`, printing an error if the assertion fails, and asks them if they want to play again where the program repeats if they answer `yes`. \n",
    "- If the player has won\n",
    "    - It asserts that `chosen_int` is indeed in guesses, printing an error if the assertion fails, and ends the program\n",
    "\n",
    "8. Both functions and variables therein should be type-annotated and optionally documented\n",
    "\n",
    "If it helps, you can define additional functions and call them within the two mentioned above for better organization."
   ]
  },
  {
   "cell_type": "markdown",
   "metadata": {},
   "source": [
    "**Expected Time To Finish Task:** ≤ 30 Minutes"
   ]
  },
  {
   "cell_type": "code",
   "execution_count": null,
   "metadata": {},
   "outputs": [
    {
     "name": "stdout",
     "output_type": "stream",
     "text": [
      "HI! welcome to the guessing game\n",
      "You have 5 attempts to guess the number between 1 and 20\n",
      "Invalid input, please enter a valid number\n",
      "Your guess is too low, you have 4 attempts left\n",
      "Your guess is too low, you have 3 attempts left\n",
      "Your guess is too high, you have 2 attempts left\n",
      "Your guess is too high, you have 1 attempts left\n",
      "Your guess is too high, you have 0 attempts left\n",
      "Sorry, you have lost the game.\n",
      "Invalid input, please enter yes or no\n",
      "Invalid input, please enter yes or no\n",
      "Invalid input, please enter yes or no\n",
      "HI! welcome to the guessing game\n",
      "You have 5 attempts to guess the number between 1 and 20\n",
      "Invalid input, please enter a valid number\n",
      "Your guess is too low, you have 4 attempts left\n",
      "Your guess is too low, you have 3 attempts left\n",
      "Your guess is too low, you have 2 attempts left\n",
      "Your guess is too high, you have 1 attempts left\n",
      "Your guess is too low, you have 0 attempts left\n",
      "Sorry, you have lost the game.\n",
      "Invalid input, please enter yes or no\n",
      "Invalid input, please enter yes or no\n",
      "Invalid input, please enter yes or no\n",
      "Invalid input, please enter yes or no\n",
      "Invalid input, please enter yes or no\n",
      "HI! welcome to the guessing game\n",
      "You have 5 attempts to guess the number between 1 and 20\n"
     ]
    }
   ],
   "source": [
    "from Game import play_game\n",
    "\n",
    "play_game()"
   ]
  },
  {
   "cell_type": "code",
   "execution_count": null,
   "metadata": {},
   "outputs": [],
   "source": []
  }
 ],
 "metadata": {
  "kernelspec": {
   "display_name": "base",
   "language": "python",
   "name": "python3"
  },
  "language_info": {
   "codemirror_mode": {
    "name": "ipython",
    "version": 3
   },
   "file_extension": ".py",
   "mimetype": "text/x-python",
   "name": "python",
   "nbconvert_exporter": "python",
   "pygments_lexer": "ipython3",
   "version": "3.11.9"
  }
 },
 "nbformat": 4,
 "nbformat_minor": 2
}
