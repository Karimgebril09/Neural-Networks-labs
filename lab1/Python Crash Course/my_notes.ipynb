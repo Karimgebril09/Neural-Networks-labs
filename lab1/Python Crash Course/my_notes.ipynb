{
 "cells": [
  {
   "cell_type": "markdown",
   "metadata": {},
   "source": [
    "1-dict.items => return pair key,val\n",
    "\n",
    "2-deepcopy because if you have a pointer insider a pointer [pointer to list inside a list]\n",
    "\n",
    "3-you can pass function to function since they are treated as object\n",
    "\n",
    "4-decorator functions is kinda nice way to add a logging or time functionality [check functions file]\n",
    "\n",
    "5-assert/raise  /    try-except"
   ]
  },
  {
   "cell_type": "markdown",
   "metadata": {},
   "source": [
    "It logically follows that in general to define and use decorators:\n",
    "```python\n",
    "def decorator_function(func):\n",
    "    def wrapper(*args, **kwargs):\n",
    "        # Code to execute before calling the decorated function\n",
    "        result = func(*args, **kwargs)\n",
    "        # Code to execute after calling the decorated function\n",
    "        return result\n",
    "    return wrapper\n",
    "\n",
    "@decorator_function\n",
    "def some_function():\n",
    "    # Function body\n",
    "    pass\n",
    "```"
   ]
  },
  {
   "cell_type": "code",
   "execution_count": null,
   "metadata": {},
   "outputs": [],
   "source": [
    "x:int=5"
   ]
  },
  {
   "cell_type": "code",
   "execution_count": null,
   "metadata": {},
   "outputs": [],
   "source": [
    "import time                     \n",
    "from tqdm.notebook import tqdm  \n",
    "\n",
    "for i in tqdm(range(10)):\n",
    "    time.sleep(0.5)  "
   ]
  },
  {
   "cell_type": "code",
   "execution_count": null,
   "metadata": {},
   "outputs": [],
   "source": [
    "squareXY = lambda x, y: (x + y)**2\n",
    "print(squareXY(5, 5))"
   ]
  }
 ],
 "metadata": {
  "kernelspec": {
   "display_name": "base",
   "language": "python",
   "name": "python3"
  },
  "language_info": {
   "name": "python",
   "version": "3.11.9"
  }
 },
 "nbformat": 4,
 "nbformat_minor": 2
}
